{
  "nbformat": 4,
  "nbformat_minor": 0,
  "metadata": {
    "colab": {
      "name": "Fine-Tuning BlueBERT.ipynb",
      "provenance": [],
      "machine_shape": "hm",
      "authorship_tag": "ABX9TyNLhCidS0dwFREU5FslNmID",
      "include_colab_link": true
    },
    "kernelspec": {
      "name": "python3",
      "display_name": "Python 3"
    },
    "accelerator": "GPU"
  },
  "cells": [
    {
      "cell_type": "markdown",
      "metadata": {
        "id": "view-in-github",
        "colab_type": "text"
      },
      "source": [
        "<a href=\"https://colab.research.google.com/github/saiparsa/Abnormal_Event_Detection/blob/master/Fine_Tuning_BlueBERT.ipynb\" target=\"_parent\"><img src=\"https://colab.research.google.com/assets/colab-badge.svg\" alt=\"Open In Colab\"/></a>"
      ]
    },
    {
      "cell_type": "markdown",
      "metadata": {
        "id": "bL0pInrzFvZc"
      },
      "source": [
        "## Using GPU for training"
      ]
    },
    {
      "cell_type": "code",
      "metadata": {
        "colab": {
          "base_uri": "https://localhost:8080/"
        },
        "id": "ligz_nsaFZ-k",
        "outputId": "00537a05-15f1-41cb-b9a8-7d33bcba7347"
      },
      "source": [
        "import tensorflow as tf\r\n",
        "\r\n",
        "# Get the GPU device name.\r\n",
        "device_name = tf.test.gpu_device_name()\r\n",
        "\r\n",
        "# The device name should look like the following:\r\n",
        "if device_name == '/device:GPU:0':\r\n",
        "    print('Found GPU at: {}'.format(device_name))\r\n",
        "else:\r\n",
        "    raise SystemError('GPU device not found')"
      ],
      "execution_count": 1,
      "outputs": [
        {
          "output_type": "stream",
          "text": [
            "Found GPU at: /device:GPU:0\n"
          ],
          "name": "stdout"
        }
      ]
    },
    {
      "cell_type": "code",
      "metadata": {
        "colab": {
          "base_uri": "https://localhost:8080/"
        },
        "id": "Z-NujFyFF4ql",
        "outputId": "13c4801e-34aa-46cc-da41-dd9cb82b7d01"
      },
      "source": [
        "import torch\r\n",
        "\r\n",
        "# If there's a GPU available...\r\n",
        "if torch.cuda.is_available():    \r\n",
        "\r\n",
        "    # Tell PyTorch to use the GPU.    \r\n",
        "    device = torch.device(\"cuda\")\r\n",
        "\r\n",
        "    print('There are %d GPU(s) available.' % torch.cuda.device_count())\r\n",
        "\r\n",
        "    print('We will use the GPU:', torch.cuda.get_device_name(0))\r\n",
        "\r\n",
        "# If not...\r\n",
        "else:\r\n",
        "    print('No GPU available, using the CPU instead.')\r\n",
        "    device = torch.device(\"cpu\")"
      ],
      "execution_count": 2,
      "outputs": [
        {
          "output_type": "stream",
          "text": [
            "There are 1 GPU(s) available.\n",
            "We will use the GPU: Tesla V100-SXM2-16GB\n"
          ],
          "name": "stdout"
        }
      ]
    },
    {
      "cell_type": "markdown",
      "metadata": {
        "id": "2acRhk16GT_c"
      },
      "source": [
        "## Installing Hugging Face transformers"
      ]
    },
    {
      "cell_type": "code",
      "metadata": {
        "colab": {
          "base_uri": "https://localhost:8080/"
        },
        "id": "poGxHcZlGCjC",
        "outputId": "87d7c20e-d244-42a5-b63b-ae0c1056910a"
      },
      "source": [
        "!pip install transformers"
      ],
      "execution_count": 3,
      "outputs": [
        {
          "output_type": "stream",
          "text": [
            "Requirement already satisfied: transformers in /usr/local/lib/python3.6/dist-packages (4.2.2)\n",
            "Requirement already satisfied: tokenizers==0.9.4 in /usr/local/lib/python3.6/dist-packages (from transformers) (0.9.4)\n",
            "Requirement already satisfied: packaging in /usr/local/lib/python3.6/dist-packages (from transformers) (20.8)\n",
            "Requirement already satisfied: regex!=2019.12.17 in /usr/local/lib/python3.6/dist-packages (from transformers) (2019.12.20)\n",
            "Requirement already satisfied: numpy in /usr/local/lib/python3.6/dist-packages (from transformers) (1.19.5)\n",
            "Requirement already satisfied: sacremoses in /usr/local/lib/python3.6/dist-packages (from transformers) (0.0.43)\n",
            "Requirement already satisfied: filelock in /usr/local/lib/python3.6/dist-packages (from transformers) (3.0.12)\n",
            "Requirement already satisfied: requests in /usr/local/lib/python3.6/dist-packages (from transformers) (2.23.0)\n",
            "Requirement already satisfied: dataclasses; python_version < \"3.7\" in /usr/local/lib/python3.6/dist-packages (from transformers) (0.8)\n",
            "Requirement already satisfied: importlib-metadata; python_version < \"3.8\" in /usr/local/lib/python3.6/dist-packages (from transformers) (3.3.0)\n",
            "Requirement already satisfied: tqdm>=4.27 in /usr/local/lib/python3.6/dist-packages (from transformers) (4.41.1)\n",
            "Requirement already satisfied: pyparsing>=2.0.2 in /usr/local/lib/python3.6/dist-packages (from packaging->transformers) (2.4.7)\n",
            "Requirement already satisfied: six in /usr/local/lib/python3.6/dist-packages (from sacremoses->transformers) (1.15.0)\n",
            "Requirement already satisfied: click in /usr/local/lib/python3.6/dist-packages (from sacremoses->transformers) (7.1.2)\n",
            "Requirement already satisfied: joblib in /usr/local/lib/python3.6/dist-packages (from sacremoses->transformers) (1.0.0)\n",
            "Requirement already satisfied: idna<3,>=2.5 in /usr/local/lib/python3.6/dist-packages (from requests->transformers) (2.10)\n",
            "Requirement already satisfied: chardet<4,>=3.0.2 in /usr/local/lib/python3.6/dist-packages (from requests->transformers) (3.0.4)\n",
            "Requirement already satisfied: urllib3!=1.25.0,!=1.25.1,<1.26,>=1.21.1 in /usr/local/lib/python3.6/dist-packages (from requests->transformers) (1.24.3)\n",
            "Requirement already satisfied: certifi>=2017.4.17 in /usr/local/lib/python3.6/dist-packages (from requests->transformers) (2020.12.5)\n",
            "Requirement already satisfied: typing-extensions>=3.6.4; python_version < \"3.8\" in /usr/local/lib/python3.6/dist-packages (from importlib-metadata; python_version < \"3.8\"->transformers) (3.7.4.3)\n",
            "Requirement already satisfied: zipp>=0.5 in /usr/local/lib/python3.6/dist-packages (from importlib-metadata; python_version < \"3.8\"->transformers) (3.4.0)\n"
          ],
          "name": "stdout"
        }
      ]
    },
    {
      "cell_type": "markdown",
      "metadata": {
        "id": "KwyuLnRmHdeJ"
      },
      "source": [
        "## Importing packages"
      ]
    },
    {
      "cell_type": "code",
      "metadata": {
        "id": "LUEigIh5HwWc"
      },
      "source": [
        "import pandas as pd\r\n",
        "import nltk.tokenize.treebank as tb\r\n",
        "import re\r\n",
        "import torch\r\n",
        "import numpy as np\r\n",
        "import pickle\r\n",
        "\r\n",
        "from transformers import AutoTokenizer, AutoModel"
      ],
      "execution_count": 4,
      "outputs": []
    },
    {
      "cell_type": "markdown",
      "metadata": {
        "id": "1i3AcpISH9RR"
      },
      "source": [
        "## Mounting Drive and Loading Data"
      ]
    },
    {
      "cell_type": "code",
      "metadata": {
        "colab": {
          "base_uri": "https://localhost:8080/"
        },
        "id": "aHe3VQdlH4mz",
        "outputId": "ad795666-2b5f-43be-fc93-ef7be7c6daf7"
      },
      "source": [
        "from google.colab import drive\r\n",
        "drive.mount('/content/drive')"
      ],
      "execution_count": 5,
      "outputs": [
        {
          "output_type": "stream",
          "text": [
            "Drive already mounted at /content/drive; to attempt to forcibly remount, call drive.mount(\"/content/drive\", force_remount=True).\n"
          ],
          "name": "stdout"
        }
      ]
    },
    {
      "cell_type": "code",
      "metadata": {
        "colab": {
          "base_uri": "https://localhost:8080/"
        },
        "id": "OKc_NbUEIKia",
        "outputId": "ee93b5a6-3634-4376-b9c6-fe6a97ef2fea"
      },
      "source": [
        "cd drive/My\\ Drive/LAIDEL/  "
      ],
      "execution_count": 6,
      "outputs": [
        {
          "output_type": "stream",
          "text": [
            "/content/drive/My Drive/LAIDEL\n"
          ],
          "name": "stdout"
        }
      ]
    },
    {
      "cell_type": "code",
      "metadata": {
        "colab": {
          "base_uri": "https://localhost:8080/",
          "height": 203
        },
        "id": "hGh7oFe2IbJB",
        "outputId": "16092a0f-de63-4abd-fac7-6f111a9bb7cc"
      },
      "source": [
        "data = pd.read_excel ('Data_v1.xlsx')\r\n",
        "#data.text=data.text.astype(str)\r\n",
        "data.head()"
      ],
      "execution_count": 7,
      "outputs": [
        {
          "output_type": "execute_result",
          "data": {
            "text/html": [
              "<div>\n",
              "<style scoped>\n",
              "    .dataframe tbody tr th:only-of-type {\n",
              "        vertical-align: middle;\n",
              "    }\n",
              "\n",
              "    .dataframe tbody tr th {\n",
              "        vertical-align: top;\n",
              "    }\n",
              "\n",
              "    .dataframe thead th {\n",
              "        text-align: right;\n",
              "    }\n",
              "</style>\n",
              "<table border=\"1\" class=\"dataframe\">\n",
              "  <thead>\n",
              "    <tr style=\"text-align: right;\">\n",
              "      <th></th>\n",
              "      <th>phenotype_mim_num</th>\n",
              "      <th>gene_mim_num</th>\n",
              "      <th>Entrez Gene ID (NCBI)</th>\n",
              "      <th>Approved Gene Symbol (HGNC)</th>\n",
              "      <th>mutation_consequence</th>\n",
              "      <th>text</th>\n",
              "    </tr>\n",
              "  </thead>\n",
              "  <tbody>\n",
              "    <tr>\n",
              "      <th>0</th>\n",
              "      <td>300983</td>\n",
              "      <td>300838</td>\n",
              "      <td>9758.0</td>\n",
              "      <td>FRMPD4</td>\n",
              "      <td>HI</td>\n",
              "      <td>In 5 affected males from a family (P58) with X...</td>\n",
              "    </tr>\n",
              "    <tr>\n",
              "      <th>1</th>\n",
              "      <td>618394</td>\n",
              "      <td>605394</td>\n",
              "      <td>60468.0</td>\n",
              "      <td>BACH2</td>\n",
              "      <td>DN</td>\n",
              "      <td>In a 19-year-old woman (family A) with immunod...</td>\n",
              "    </tr>\n",
              "    <tr>\n",
              "      <th>2</th>\n",
              "      <td>229100</td>\n",
              "      <td>606806</td>\n",
              "      <td>10841.0</td>\n",
              "      <td>FTCD</td>\n",
              "      <td>HI</td>\n",
              "      <td>In 2 sibs with glutamate formiminotransferase ...</td>\n",
              "    </tr>\n",
              "    <tr>\n",
              "      <th>3</th>\n",
              "      <td>616324</td>\n",
              "      <td>100725</td>\n",
              "      <td>1145.0</td>\n",
              "      <td>CHRNE</td>\n",
              "      <td>HI</td>\n",
              "      <td>For discussion of the ser143-to-leu (S143L) mu...</td>\n",
              "    </tr>\n",
              "    <tr>\n",
              "      <th>4</th>\n",
              "      <td>104300</td>\n",
              "      <td>104760</td>\n",
              "      <td>351.0</td>\n",
              "      <td>APP</td>\n",
              "      <td>none</td>\n",
              "      <td>In a cohort of 65 families with autosomal domi...</td>\n",
              "    </tr>\n",
              "  </tbody>\n",
              "</table>\n",
              "</div>"
            ],
            "text/plain": [
              "   phenotype_mim_num  ...                                               text\n",
              "0             300983  ...  In 5 affected males from a family (P58) with X...\n",
              "1             618394  ...  In a 19-year-old woman (family A) with immunod...\n",
              "2             229100  ...  In 2 sibs with glutamate formiminotransferase ...\n",
              "3             616324  ...  For discussion of the ser143-to-leu (S143L) mu...\n",
              "4             104300  ...  In a cohort of 65 families with autosomal domi...\n",
              "\n",
              "[5 rows x 6 columns]"
            ]
          },
          "metadata": {
            "tags": []
          },
          "execution_count": 7
        }
      ]
    },
    {
      "cell_type": "code",
      "metadata": {
        "colab": {
          "base_uri": "https://localhost:8080/"
        },
        "id": "1Umh7YESKUsb",
        "outputId": "36a257ea-550a-4247-bc32-79e1d1003683"
      },
      "source": [
        "data.mutation_consequence.value_counts()"
      ],
      "execution_count": 8,
      "outputs": [
        {
          "output_type": "execute_result",
          "data": {
            "text/plain": [
              "GOF     100\n",
              "none    100\n",
              "HI      100\n",
              "LOF     100\n",
              "DN      100\n",
              "Name: mutation_consequence, dtype: int64"
            ]
          },
          "metadata": {
            "tags": []
          },
          "execution_count": 8
        }
      ]
    },
    {
      "cell_type": "markdown",
      "metadata": {
        "id": "zkMNl1JCTLAM"
      },
      "source": [
        "## Data Preprocessing"
      ]
    },
    {
      "cell_type": "code",
      "metadata": {
        "id": "6X_acsGzKYku"
      },
      "source": [
        "# Removing nan values\r\n",
        "data.dropna(inplace=True)"
      ],
      "execution_count": 9,
      "outputs": []
    },
    {
      "cell_type": "code",
      "metadata": {
        "colab": {
          "base_uri": "https://localhost:8080/"
        },
        "id": "bGCzg8gAKfj0",
        "outputId": "dd9f65b6-2806-4520-fc84-6d6371f011d4"
      },
      "source": [
        "data.mutation_consequence.value_counts()"
      ],
      "execution_count": 10,
      "outputs": [
        {
          "output_type": "execute_result",
          "data": {
            "text/plain": [
              "LOF     100\n",
              "DN      100\n",
              "GOF      99\n",
              "HI       99\n",
              "none     84\n",
              "Name: mutation_consequence, dtype: int64"
            ]
          },
          "metadata": {
            "tags": []
          },
          "execution_count": 10
        }
      ]
    },
    {
      "cell_type": "code",
      "metadata": {
        "id": "PmHQh8K7Ike4"
      },
      "source": [
        "# Get the lists of sentences and their labels.\r\n",
        "sentences = data.text.values\r\n",
        "labels = data.mutation_consequence.values"
      ],
      "execution_count": 11,
      "outputs": []
    },
    {
      "cell_type": "code",
      "metadata": {
        "id": "VLiBA5nrQI2w"
      },
      "source": [
        "# Removing information which makes classification straight forward leading to overfitting\r\n",
        "def remove_text_inside_brackets(text, brackets=\"()[]{}\"):\r\n",
        "    count = [0] * (len(brackets) // 2) # count open/close brackets\r\n",
        "    saved_chars = []\r\n",
        "    for character in text:\r\n",
        "        for i, b in enumerate(brackets):\r\n",
        "            if character == b: # found bracket\r\n",
        "                kind, is_close = divmod(i, 2)\r\n",
        "                count[kind] += (-1)**is_close # `+1`: open, `-1`: close\r\n",
        "                if count[kind] < 0: # unbalanced bracket\r\n",
        "                    count[kind] = 0  # keep it\r\n",
        "                else:  # found bracket to remove\r\n",
        "                    break\r\n",
        "        else: # character is not a [balanced] bracket\r\n",
        "            if not any(count): # outside brackets\r\n",
        "                saved_chars.append(character)\r\n",
        "    return ''.join(saved_chars)\r\n"
      ],
      "execution_count": 12,
      "outputs": []
    },
    {
      "cell_type": "code",
      "metadata": {
        "colab": {
          "base_uri": "https://localhost:8080/",
          "height": 123
        },
        "id": "Y6LkhJldR4Kd",
        "outputId": "0d2f6e8c-12e1-4094-a3ff-779cef3d18e4"
      },
      "source": [
        "sample = sentences[10]\r\n",
        "sample #before preprocessing"
      ],
      "execution_count": 13,
      "outputs": [
        {
          "output_type": "execute_result",
          "data": {
            "application/vnd.google.colaboratory.intrinsic+json": {
              "type": "string"
            },
            "text/plain": [
              "'In affected members of a 3-generation family with thrombocytopenia-6 (THC6; {616937}), {22:Turro et al. (2016)} identified a heterozygous c.1579G-A transition in the SRC gene, resulting in a glu527-to-lys (E527K) substitution at a conserved residue in the kinase domain. The mutation, which was found by exome sequencing and confirmed by Sanger sequencing, segregated with the disorder in the family and was not found in the ExAC database or in 2,974 in-house control subjects. In vitro functional expression assays showed that the mutation resulted in high kinase activity compared to wildtype, consistent with a dominant gain of function. Immunoblot analysis of patient cells showed increased levels of active SRC and overall increased tyrosine phosphorylation compared to controls. Transfection of the mutation into control blood stem cells caused defective megakaryopoiesis associated with increased overall tyrosine phosphorylation in megakaryocytes. Compared with control conditions, more megakaryocytes were immature and had defects in proplatelet formation, with alterations in the actin cytoskeleton and podosome structures when adhered to fibrinogen. These abnormalities resembled those found in patient bone marrow biopsies and could be rescued using an SRC inhibitor. Expression of the mutation in zebrafish embryos resulted in abnormal early primitive hematopoiesis, thrombocytopenia, and smaller bones compared to controls.'"
            ]
          },
          "metadata": {
            "tags": []
          },
          "execution_count": 13
        }
      ]
    },
    {
      "cell_type": "code",
      "metadata": {
        "colab": {
          "base_uri": "https://localhost:8080/",
          "height": 123
        },
        "id": "PFfLH0GCI_-a",
        "outputId": "73ae3e3b-7fa7-4a32-89f6-7d04d512ebae"
      },
      "source": [
        "sample = sample.lower() #converting into lowercase\r\n",
        "sample = re.sub(r'[\\r\\n\\n]+', ' ', sample)#removing the new line, carriage return sequences\r\n",
        "sample = re.sub(r'[^\\x00-\\x7F]+', ' ', sample)#removing the special charecters\r\n",
        "sample = remove_text_inside_brackets(sample) #removing text inside the braces\r\n",
        "\r\n",
        "sample #after preprocessing"
      ],
      "execution_count": 14,
      "outputs": [
        {
          "output_type": "execute_result",
          "data": {
            "application/vnd.google.colaboratory.intrinsic+json": {
              "type": "string"
            },
            "text/plain": [
              "'in affected members of a 3-generation family with thrombocytopenia-6 ,  identified a heterozygous c.1579g-a transition in the src gene, resulting in a glu527-to-lys  substitution at a conserved residue in the kinase domain. the mutation, which was found by exome sequencing and confirmed by sanger sequencing, segregated with the disorder in the family and was not found in the exac database or in 2,974 in-house control subjects. in vitro functional expression assays showed that the mutation resulted in high kinase activity compared to wildtype, consistent with a dominant gain of function. immunoblot analysis of patient cells showed increased levels of active src and overall increased tyrosine phosphorylation compared to controls. transfection of the mutation into control blood stem cells caused defective megakaryopoiesis associated with increased overall tyrosine phosphorylation in megakaryocytes. compared with control conditions, more megakaryocytes were immature and had defects in proplatelet formation, with alterations in the actin cytoskeleton and podosome structures when adhered to fibrinogen. these abnormalities resembled those found in patient bone marrow biopsies and could be rescued using an src inhibitor. expression of the mutation in zebrafish embryos resulted in abnormal early primitive hematopoiesis, thrombocytopenia, and smaller bones compared to controls.'"
            ]
          },
          "metadata": {
            "tags": []
          },
          "execution_count": 14
        }
      ]
    },
    {
      "cell_type": "code",
      "metadata": {
        "id": "D9Rn8_gWJBiu"
      },
      "source": [
        "def preprocessing(sample):\r\n",
        "\r\n",
        "    sample = sample.lower() #converting into lowercase\r\n",
        "    sample = re.sub(r'[\\r\\n\\n]+', ' ', sample)#removing the new line, carriage return sequences\r\n",
        "    sample = re.sub(r'[^\\x00-\\x7F]+', ' ', sample)#removing the special charecters\r\n",
        "    #sample = remove_text_inside_brackets(sample) #removing text inside the braces\r\n",
        "\r\n",
        "    tokenized = tb.TreebankWordTokenizer().tokenize(sample)\r\n",
        "    sentence = ' '.join(tokenized)\r\n",
        "    sentence = re.sub(r\"\\s's\\b\", \"'s\", sentence)\r\n",
        "\r\n",
        "    return sentence"
      ],
      "execution_count": 15,
      "outputs": []
    },
    {
      "cell_type": "code",
      "metadata": {
        "id": "44-DdjaGTGrs"
      },
      "source": [
        "data.text = data.text.apply(lambda x: preprocessing(x))"
      ],
      "execution_count": 16,
      "outputs": []
    },
    {
      "cell_type": "code",
      "metadata": {
        "id": "N-qNbXdQTcZ2"
      },
      "source": [
        "# Get the lists of sentences and their labels.\r\n",
        "data['mutation_consequence'] = data['mutation_consequence'].astype('category')\r\n",
        "# Assigning numerical values and storing in another column\r\n",
        "data['labels'] = data['mutation_consequence'].cat.codes\r\n",
        "\r\n",
        "sentences = data.text.values\r\n",
        "labels = data.labels.values"
      ],
      "execution_count": 17,
      "outputs": []
    },
    {
      "cell_type": "markdown",
      "metadata": {
        "id": "CR9-9HGCTq2k"
      },
      "source": [
        "## Tokenization & Input Formatting"
      ]
    },
    {
      "cell_type": "code",
      "metadata": {
        "colab": {
          "base_uri": "https://localhost:8080/"
        },
        "id": "kY4PO50ATg0w",
        "outputId": "ecad2255-630b-4f6b-fec8-67e092812c9e"
      },
      "source": [
        "from transformers import BertTokenizer\r\n",
        "\r\n",
        "# Load the BERT tokenizer.\r\n",
        "print('Loading BlueBERT tokenizer...')\r\n",
        "\r\n",
        "tokenizer = AutoTokenizer.from_pretrained(\"bionlp/bluebert_pubmed_mimic_uncased_L-12_H-768_A-12\")"
      ],
      "execution_count": 18,
      "outputs": [
        {
          "output_type": "stream",
          "text": [
            "Loading BlueBERT tokenizer...\n"
          ],
          "name": "stdout"
        }
      ]
    },
    {
      "cell_type": "code",
      "metadata": {
        "colab": {
          "base_uri": "https://localhost:8080/"
        },
        "id": "wRYhNYcHUDAE",
        "outputId": "fa783247-a86c-40e1-ffaa-5b6208d4c4bb"
      },
      "source": [
        "# Print the original sentence.\r\n",
        "print(' Original: ', sentences[10])\r\n",
        "\r\n",
        "# Print the sentence split into tokens.\r\n",
        "print('Tokenized: ', tokenizer.tokenize(sentences[10]))\r\n",
        "\r\n",
        "# Print the sentence mapped to token ids.\r\n",
        "print('Token IDs: ', tokenizer.convert_tokens_to_ids(tokenizer.tokenize(sentences[10])))"
      ],
      "execution_count": 19,
      "outputs": [
        {
          "output_type": "stream",
          "text": [
            " Original:  in affected members of a 3-generation family with thrombocytopenia-6 ( thc6 ; { 616937 } ) , { 22 : turro et al. ( 2016 ) } identified a heterozygous c.1579g-a transition in the src gene , resulting in a glu527-to-lys ( e527k ) substitution at a conserved residue in the kinase domain. the mutation , which was found by exome sequencing and confirmed by sanger sequencing , segregated with the disorder in the family and was not found in the exac database or in 2,974 in-house control subjects. in vitro functional expression assays showed that the mutation resulted in high kinase activity compared to wildtype , consistent with a dominant gain of function. immunoblot analysis of patient cells showed increased levels of active src and overall increased tyrosine phosphorylation compared to controls. transfection of the mutation into control blood stem cells caused defective megakaryopoiesis associated with increased overall tyrosine phosphorylation in megakaryocytes. compared with control conditions , more megakaryocytes were immature and had defects in proplatelet formation , with alterations in the actin cytoskeleton and podosome structures when adhered to fibrinogen. these abnormalities resembled those found in patient bone marrow biopsies and could be rescued using an src inhibitor. expression of the mutation in zebrafish embryos resulted in abnormal early primitive hematopoiesis , thrombocytopenia , and smaller bones compared to controls .\n",
            "Tokenized:  ['in', 'affected', 'members', 'of', 'a', '3', '-', 'generation', 'family', 'with', 'th', '##rom', '##bo', '##cy', '##top', '##enia', '-', '6', '(', 'th', '##c', '##6', ';', '{', '61', '##6', '##9', '##37', '}', ')', ',', '{', '22', ':', 'tu', '##rro', 'et', 'al', '.', '(', '2016', ')', '}', 'identified', 'a', 'het', '##ero', '##zy', '##go', '##us', 'c', '.', '157', '##9', '##g', '-', 'a', 'transition', 'in', 'the', 'sr', '##c', 'gene', ',', 'resulting', 'in', 'a', 'g', '##lu', '##52', '##7', '-', 'to', '-', 'l', '##ys', '(', 'e', '##52', '##7', '##k', ')', 'substitution', 'at', 'a', 'conserved', 'residue', 'in', 'the', 'kinase', 'domain', '.', 'the', 'mutation', ',', 'which', 'was', 'found', 'by', 'ex', '##ome', 'sequencing', 'and', 'confirmed', 'by', 'sang', '##er', 'sequencing', ',', 'segregated', 'with', 'the', 'disorder', 'in', 'the', 'family', 'and', 'was', 'not', 'found', 'in', 'the', 'ex', '##ac', 'database', 'or', 'in', '2', ',', '97', '##4', 'in', '-', 'house', 'control', 'subjects', '.', 'in', 'vitro', 'functional', 'expression', 'ass', '##ays', 'showed', 'that', 'the', 'mutation', 'resulted', 'in', 'high', 'kinase', 'activity', 'compared', 'to', 'wild', '##type', ',', 'consistent', 'with', 'a', 'dominant', 'gain', 'of', 'function', '.', 'im', '##mun', '##ob', '##lot', 'analysis', 'of', 'patient', 'cells', 'showed', 'increased', 'levels', 'of', 'active', 'sr', '##c', 'and', 'overall', 'increased', 'ty', '##ros', '##ine', 'ph', '##os', '##ph', '##ory', '##lation', 'compared', 'to', 'controls', '.', 'trans', '##fect', '##ion', 'of', 'the', 'mutation', 'into', 'control', 'blood', 'stem', 'cells', 'caused', 'defective', 'mega', '##kar', '##yo', '##po', '##ies', '##is', 'associated', 'with', 'increased', 'overall', 'ty', '##ros', '##ine', 'ph', '##os', '##ph', '##ory', '##lation', 'in', 'mega', '##kar', '##yo', '##cytes', '.', 'compared', 'with', 'control', 'conditions', ',', 'more', 'mega', '##kar', '##yo', '##cytes', 'were', 'immature', 'and', 'had', 'defects', 'in', 'prop', '##late', '##let', 'formation', ',', 'with', 'alterations', 'in', 'the', 'act', '##in', 'cy', '##tos', '##kel', '##eto', '##n', 'and', 'pod', '##oso', '##me', 'structures', 'when', 'adhere', '##d', 'to', 'fi', '##bri', '##no', '##gen', '.', 'these', 'abnormalities', 'resembled', 'those', 'found', 'in', 'patient', 'bone', 'marrow', 'bio', '##ps', '##ies', 'and', 'could', 'be', 'rescued', 'using', 'an', 'sr', '##c', 'inhibitor', '.', 'expression', 'of', 'the', 'mutation', 'in', 'zebra', '##fish', 'embryo', '##s', 'resulted', 'in', 'abnormal', 'early', 'primitive', 'hem', '##ato', '##po', '##ies', '##is', ',', 'th', '##rom', '##bo', '##cy', '##top', '##enia', ',', 'and', 'smaller', 'bones', 'compared', 'to', 'controls', '.']\n",
            "Token IDs:  [1999, 5360, 2372, 1997, 1037, 1017, 1011, 4245, 2155, 2007, 16215, 21716, 5092, 5666, 14399, 19825, 1011, 1020, 1006, 16215, 2278, 2575, 1025, 1063, 6079, 2575, 2683, 24434, 1065, 1007, 1010, 1063, 2570, 1024, 10722, 18933, 3802, 2632, 1012, 1006, 2355, 1007, 1065, 4453, 1037, 21770, 10624, 9096, 3995, 2271, 1039, 1012, 17403, 2683, 2290, 1011, 1037, 6653, 1999, 1996, 5034, 2278, 4962, 1010, 4525, 1999, 1037, 1043, 7630, 25746, 2581, 1011, 2000, 1011, 1048, 7274, 1006, 1041, 25746, 2581, 2243, 1007, 20885, 2012, 1037, 19995, 21755, 1999, 1996, 21903, 5884, 1012, 1996, 16221, 1010, 2029, 2001, 2179, 2011, 4654, 8462, 24558, 1998, 4484, 2011, 6369, 2121, 24558, 1010, 24382, 2007, 1996, 8761, 1999, 1996, 2155, 1998, 2001, 2025, 2179, 1999, 1996, 4654, 6305, 7809, 2030, 1999, 1016, 1010, 5989, 2549, 1999, 1011, 2160, 2491, 5739, 1012, 1999, 25714, 8360, 3670, 4632, 22916, 3662, 2008, 1996, 16221, 4504, 1999, 2152, 21903, 4023, 4102, 2000, 3748, 13874, 1010, 8335, 2007, 1037, 7444, 5114, 1997, 3853, 1012, 10047, 23041, 16429, 10994, 4106, 1997, 5776, 4442, 3662, 3445, 3798, 1997, 3161, 5034, 2278, 1998, 3452, 3445, 5939, 7352, 3170, 6887, 2891, 8458, 10253, 13490, 4102, 2000, 7711, 1012, 9099, 25969, 3258, 1997, 1996, 16221, 2046, 2491, 2668, 7872, 4442, 3303, 28829, 13164, 6673, 7677, 6873, 3111, 2483, 3378, 2007, 3445, 3452, 5939, 7352, 3170, 6887, 2891, 8458, 10253, 13490, 1999, 13164, 6673, 7677, 27321, 1012, 4102, 2007, 2491, 3785, 1010, 2062, 13164, 6673, 7677, 27321, 2020, 26838, 1998, 2018, 18419, 1999, 17678, 13806, 7485, 4195, 1010, 2007, 16705, 1999, 1996, 2552, 2378, 22330, 13122, 11705, 18903, 2078, 1998, 17491, 19137, 4168, 5090, 2043, 25276, 2094, 2000, 10882, 23736, 3630, 6914, 1012, 2122, 28828, 15881, 2216, 2179, 1999, 5776, 5923, 24960, 16012, 4523, 3111, 1998, 2071, 2022, 10148, 2478, 2019, 5034, 2278, 24054, 1012, 3670, 1997, 1996, 16221, 1999, 29145, 7529, 28086, 2015, 4504, 1999, 19470, 2220, 10968, 19610, 10610, 6873, 3111, 2483, 1010, 16215, 21716, 5092, 5666, 14399, 19825, 1010, 1998, 3760, 5944, 4102, 2000, 7711, 1012]\n"
          ],
          "name": "stdout"
        }
      ]
    },
    {
      "cell_type": "code",
      "metadata": {
        "colab": {
          "base_uri": "https://localhost:8080/"
        },
        "id": "WC2wmbzGULy0",
        "outputId": "0521d98d-f49f-4f8a-ddcb-8f271048a9be"
      },
      "source": [
        "# Tokenizing\r\n",
        "max_len = 0\r\n",
        "\r\n",
        "# For every sentence...\r\n",
        "for sent in sentences:\r\n",
        "\r\n",
        "    # Tokenize the text and add `[CLS]` and `[SEP]` tokens.\r\n",
        "    input_ids = tokenizer.encode(sent, add_special_tokens=True)\r\n",
        "\r\n",
        "    # Update the maximum sentence length.\r\n",
        "    max_len = max(max_len, len(input_ids))\r\n",
        "\r\n",
        "print('Max sentence length: ', max_len)"
      ],
      "execution_count": 20,
      "outputs": [
        {
          "output_type": "stream",
          "text": [
            "Max sentence length:  8388\n"
          ],
          "name": "stdout"
        }
      ]
    },
    {
      "cell_type": "code",
      "metadata": {
        "colab": {
          "base_uri": "https://localhost:8080/"
        },
        "id": "XyxYoou6UnyF",
        "outputId": "827a8cda-2630-4e42-cfb1-4102791c6686"
      },
      "source": [
        "# Tokenize all of the sentences and map the tokens to thier word IDs.\r\n",
        "input_ids = []\r\n",
        "attention_masks = []\r\n",
        "\r\n",
        "# For every sentence...\r\n",
        "for sent in sentences:\r\n",
        "   \r\n",
        "    encoded_dict = tokenizer.encode_plus(\r\n",
        "                        sent,                      # Sentence to encode.\r\n",
        "                        add_special_tokens = True, # Add '[CLS]' and '[SEP]'\r\n",
        "                        max_length = 64,           # Pad & truncate all sentences.\r\n",
        "                        pad_to_max_length = True,\r\n",
        "                        return_attention_mask = True,   # Construct attn. masks.\r\n",
        "                        return_tensors = 'pt',     # Return pytorch tensors.\r\n",
        "                   )\r\n",
        "    \r\n",
        "    # Add the encoded sentence to the list.    \r\n",
        "    input_ids.append(encoded_dict['input_ids'])\r\n",
        "    \r\n",
        "    # And its attention mask (simply differentiates padding from non-padding).\r\n",
        "    attention_masks.append(encoded_dict['attention_mask'])\r\n",
        "\r\n",
        "# Convert the lists into tensors.\r\n",
        "input_ids = torch.cat(input_ids, dim=0)\r\n",
        "attention_masks = torch.cat(attention_masks, dim=0)\r\n",
        "labels = torch.tensor(labels,dtype=torch.long)\r\n",
        "\r\n",
        "# Print sentence 0, now as a list of IDs.\r\n",
        "print('Original: ', sentences[10])\r\n",
        "print('Token IDs:', input_ids[10])"
      ],
      "execution_count": 21,
      "outputs": [
        {
          "output_type": "stream",
          "text": [
            "Truncation was not explicitly activated but `max_length` is provided a specific value, please use `truncation=True` to explicitly truncate examples to max length. Defaulting to 'longest_first' truncation strategy. If you encode pairs of sequences (GLUE-style) with the tokenizer you can select this strategy more precisely by providing a specific strategy to `truncation`.\n",
            "/usr/local/lib/python3.6/dist-packages/transformers/tokenization_utils_base.py:2143: FutureWarning: The `pad_to_max_length` argument is deprecated and will be removed in a future version, use `padding=True` or `padding='longest'` to pad to the longest sequence in the batch, or use `padding='max_length'` to pad to a max length. In this case, you can give a specific length with `max_length` (e.g. `max_length=45`) or leave max_length to None to pad to the maximal input size of the model (e.g. 512 for Bert).\n",
            "  FutureWarning,\n"
          ],
          "name": "stderr"
        },
        {
          "output_type": "stream",
          "text": [
            "Original:  in affected members of a 3-generation family with thrombocytopenia-6 ( thc6 ; { 616937 } ) , { 22 : turro et al. ( 2016 ) } identified a heterozygous c.1579g-a transition in the src gene , resulting in a glu527-to-lys ( e527k ) substitution at a conserved residue in the kinase domain. the mutation , which was found by exome sequencing and confirmed by sanger sequencing , segregated with the disorder in the family and was not found in the exac database or in 2,974 in-house control subjects. in vitro functional expression assays showed that the mutation resulted in high kinase activity compared to wildtype , consistent with a dominant gain of function. immunoblot analysis of patient cells showed increased levels of active src and overall increased tyrosine phosphorylation compared to controls. transfection of the mutation into control blood stem cells caused defective megakaryopoiesis associated with increased overall tyrosine phosphorylation in megakaryocytes. compared with control conditions , more megakaryocytes were immature and had defects in proplatelet formation , with alterations in the actin cytoskeleton and podosome structures when adhered to fibrinogen. these abnormalities resembled those found in patient bone marrow biopsies and could be rescued using an src inhibitor. expression of the mutation in zebrafish embryos resulted in abnormal early primitive hematopoiesis , thrombocytopenia , and smaller bones compared to controls .\n",
            "Token IDs: tensor([  101,  1999,  5360,  2372,  1997,  1037,  1017,  1011,  4245,  2155,\n",
            "         2007, 16215, 21716,  5092,  5666, 14399, 19825,  1011,  1020,  1006,\n",
            "        16215,  2278,  2575,  1025,  1063,  6079,  2575,  2683, 24434,  1065,\n",
            "         1007,  1010,  1063,  2570,  1024, 10722, 18933,  3802,  2632,  1012,\n",
            "         1006,  2355,  1007,  1065,  4453,  1037, 21770, 10624,  9096,  3995,\n",
            "         2271,  1039,  1012, 17403,  2683,  2290,  1011,  1037,  6653,  1999,\n",
            "         1996,  5034,  2278,   102])\n"
          ],
          "name": "stdout"
        }
      ]
    },
    {
      "cell_type": "markdown",
      "metadata": {
        "id": "NGqExzQwWV10"
      },
      "source": [
        "## Training & Validation Split"
      ]
    },
    {
      "cell_type": "code",
      "metadata": {
        "colab": {
          "base_uri": "https://localhost:8080/"
        },
        "id": "2k8YOc9-U9IT",
        "outputId": "eb993a4e-8bd9-4df6-e355-15641a856fa9"
      },
      "source": [
        "from torch.utils.data import TensorDataset, random_split\r\n",
        "\r\n",
        "# Combine the training inputs into a TensorDataset.\r\n",
        "dataset = TensorDataset(input_ids, attention_masks, labels)\r\n",
        "\r\n",
        "# Create a 90-10 train-validation split.\r\n",
        "\r\n",
        "# Calculate the number of samples to include in each set.\r\n",
        "train_size = int(0.9 * len(dataset))\r\n",
        "val_size = len(dataset) - train_size\r\n",
        "\r\n",
        "# Divide the dataset by randomly selecting samples.\r\n",
        "train_dataset, val_dataset = random_split(dataset, [train_size, val_size])\r\n",
        "\r\n",
        "print('{:>5,} training samples'.format(train_size))\r\n",
        "print('{:>5,} validation samples'.format(val_size))"
      ],
      "execution_count": 22,
      "outputs": [
        {
          "output_type": "stream",
          "text": [
            "  433 training samples\n",
            "   49 validation samples\n"
          ],
          "name": "stdout"
        }
      ]
    },
    {
      "cell_type": "code",
      "metadata": {
        "id": "NKMHh05XWfiw"
      },
      "source": [
        "# creating data loaders\r\n",
        "from torch.utils.data import DataLoader, RandomSampler, SequentialSampler\r\n",
        "\r\n",
        "batch_size = 32 #recommended\r\n",
        "\r\n",
        "train_dataloader = DataLoader(\r\n",
        "            train_dataset,  # The training samples.\r\n",
        "            sampler = RandomSampler(train_dataset), # Select batches randomly\r\n",
        "            batch_size = batch_size # Trains with this batch size.\r\n",
        "        )\r\n",
        "\r\n",
        "# For validation the order doesn't matter, so we'll just read them sequentially.\r\n",
        "validation_dataloader = DataLoader(\r\n",
        "            val_dataset, # The validation samples.\r\n",
        "            sampler = SequentialSampler(val_dataset), # Pull out batches sequentially.\r\n",
        "            batch_size = batch_size # Evaluate with this batch size.\r\n",
        "        )"
      ],
      "execution_count": 23,
      "outputs": []
    },
    {
      "cell_type": "markdown",
      "metadata": {
        "id": "voTUeap7W2kg"
      },
      "source": [
        "## Trainig the classification model"
      ]
    },
    {
      "cell_type": "code",
      "metadata": {
        "colab": {
          "base_uri": "https://localhost:8080/"
        },
        "id": "a0Oy-giJWvcP",
        "outputId": "2d3a36dc-743d-4685-a5f6-20ac8a618fc6"
      },
      "source": [
        "from transformers import BertForSequenceClassification, AdamW, BertConfig\r\n",
        "\r\n",
        "# Load BertForSequenceClassification, the pretrained BERT model with a single \r\n",
        "# linear classification layer on top. \r\n",
        "model = BertForSequenceClassification.from_pretrained(\r\n",
        "    \"bionlp/bluebert_pubmed_mimic_uncased_L-12_H-768_A-12\", # Use the 12-layer blueBERT model, with an uncased vocab.\r\n",
        "    num_labels = 5, # The number of output labels--2 for binary classification.\r\n",
        "                    # You can increase this for multi-class tasks.   \r\n",
        "    output_attentions = False, # Whether the model returns attentions weights.\r\n",
        "    output_hidden_states = False, # Whether the model returns all hidden-states.\r\n",
        ")\r\n",
        "\r\n",
        "# Tell pytorch to run this model on the GPU.\r\n",
        "model.cuda()"
      ],
      "execution_count": 24,
      "outputs": [
        {
          "output_type": "stream",
          "text": [
            "Some weights of the model checkpoint at bionlp/bluebert_pubmed_mimic_uncased_L-12_H-768_A-12 were not used when initializing BertForSequenceClassification: ['cls.predictions.bias', 'cls.predictions.transform.dense.weight', 'cls.predictions.transform.dense.bias', 'cls.predictions.transform.LayerNorm.weight', 'cls.predictions.transform.LayerNorm.bias', 'cls.predictions.decoder.weight', 'cls.predictions.decoder.bias', 'cls.seq_relationship.weight', 'cls.seq_relationship.bias']\n",
            "- This IS expected if you are initializing BertForSequenceClassification from the checkpoint of a model trained on another task or with another architecture (e.g. initializing a BertForSequenceClassification model from a BertForPreTraining model).\n",
            "- This IS NOT expected if you are initializing BertForSequenceClassification from the checkpoint of a model that you expect to be exactly identical (initializing a BertForSequenceClassification model from a BertForSequenceClassification model).\n",
            "Some weights of BertForSequenceClassification were not initialized from the model checkpoint at bionlp/bluebert_pubmed_mimic_uncased_L-12_H-768_A-12 and are newly initialized: ['classifier.weight', 'classifier.bias']\n",
            "You should probably TRAIN this model on a down-stream task to be able to use it for predictions and inference.\n"
          ],
          "name": "stderr"
        },
        {
          "output_type": "execute_result",
          "data": {
            "text/plain": [
              "BertForSequenceClassification(\n",
              "  (bert): BertModel(\n",
              "    (embeddings): BertEmbeddings(\n",
              "      (word_embeddings): Embedding(30522, 768, padding_idx=0)\n",
              "      (position_embeddings): Embedding(512, 768)\n",
              "      (token_type_embeddings): Embedding(2, 768)\n",
              "      (LayerNorm): LayerNorm((768,), eps=1e-12, elementwise_affine=True)\n",
              "      (dropout): Dropout(p=0.1, inplace=False)\n",
              "    )\n",
              "    (encoder): BertEncoder(\n",
              "      (layer): ModuleList(\n",
              "        (0): BertLayer(\n",
              "          (attention): BertAttention(\n",
              "            (self): BertSelfAttention(\n",
              "              (query): Linear(in_features=768, out_features=768, bias=True)\n",
              "              (key): Linear(in_features=768, out_features=768, bias=True)\n",
              "              (value): Linear(in_features=768, out_features=768, bias=True)\n",
              "              (dropout): Dropout(p=0.1, inplace=False)\n",
              "            )\n",
              "            (output): BertSelfOutput(\n",
              "              (dense): Linear(in_features=768, out_features=768, bias=True)\n",
              "              (LayerNorm): LayerNorm((768,), eps=1e-12, elementwise_affine=True)\n",
              "              (dropout): Dropout(p=0.1, inplace=False)\n",
              "            )\n",
              "          )\n",
              "          (intermediate): BertIntermediate(\n",
              "            (dense): Linear(in_features=768, out_features=3072, bias=True)\n",
              "          )\n",
              "          (output): BertOutput(\n",
              "            (dense): Linear(in_features=3072, out_features=768, bias=True)\n",
              "            (LayerNorm): LayerNorm((768,), eps=1e-12, elementwise_affine=True)\n",
              "            (dropout): Dropout(p=0.1, inplace=False)\n",
              "          )\n",
              "        )\n",
              "        (1): BertLayer(\n",
              "          (attention): BertAttention(\n",
              "            (self): BertSelfAttention(\n",
              "              (query): Linear(in_features=768, out_features=768, bias=True)\n",
              "              (key): Linear(in_features=768, out_features=768, bias=True)\n",
              "              (value): Linear(in_features=768, out_features=768, bias=True)\n",
              "              (dropout): Dropout(p=0.1, inplace=False)\n",
              "            )\n",
              "            (output): BertSelfOutput(\n",
              "              (dense): Linear(in_features=768, out_features=768, bias=True)\n",
              "              (LayerNorm): LayerNorm((768,), eps=1e-12, elementwise_affine=True)\n",
              "              (dropout): Dropout(p=0.1, inplace=False)\n",
              "            )\n",
              "          )\n",
              "          (intermediate): BertIntermediate(\n",
              "            (dense): Linear(in_features=768, out_features=3072, bias=True)\n",
              "          )\n",
              "          (output): BertOutput(\n",
              "            (dense): Linear(in_features=3072, out_features=768, bias=True)\n",
              "            (LayerNorm): LayerNorm((768,), eps=1e-12, elementwise_affine=True)\n",
              "            (dropout): Dropout(p=0.1, inplace=False)\n",
              "          )\n",
              "        )\n",
              "        (2): BertLayer(\n",
              "          (attention): BertAttention(\n",
              "            (self): BertSelfAttention(\n",
              "              (query): Linear(in_features=768, out_features=768, bias=True)\n",
              "              (key): Linear(in_features=768, out_features=768, bias=True)\n",
              "              (value): Linear(in_features=768, out_features=768, bias=True)\n",
              "              (dropout): Dropout(p=0.1, inplace=False)\n",
              "            )\n",
              "            (output): BertSelfOutput(\n",
              "              (dense): Linear(in_features=768, out_features=768, bias=True)\n",
              "              (LayerNorm): LayerNorm((768,), eps=1e-12, elementwise_affine=True)\n",
              "              (dropout): Dropout(p=0.1, inplace=False)\n",
              "            )\n",
              "          )\n",
              "          (intermediate): BertIntermediate(\n",
              "            (dense): Linear(in_features=768, out_features=3072, bias=True)\n",
              "          )\n",
              "          (output): BertOutput(\n",
              "            (dense): Linear(in_features=3072, out_features=768, bias=True)\n",
              "            (LayerNorm): LayerNorm((768,), eps=1e-12, elementwise_affine=True)\n",
              "            (dropout): Dropout(p=0.1, inplace=False)\n",
              "          )\n",
              "        )\n",
              "        (3): BertLayer(\n",
              "          (attention): BertAttention(\n",
              "            (self): BertSelfAttention(\n",
              "              (query): Linear(in_features=768, out_features=768, bias=True)\n",
              "              (key): Linear(in_features=768, out_features=768, bias=True)\n",
              "              (value): Linear(in_features=768, out_features=768, bias=True)\n",
              "              (dropout): Dropout(p=0.1, inplace=False)\n",
              "            )\n",
              "            (output): BertSelfOutput(\n",
              "              (dense): Linear(in_features=768, out_features=768, bias=True)\n",
              "              (LayerNorm): LayerNorm((768,), eps=1e-12, elementwise_affine=True)\n",
              "              (dropout): Dropout(p=0.1, inplace=False)\n",
              "            )\n",
              "          )\n",
              "          (intermediate): BertIntermediate(\n",
              "            (dense): Linear(in_features=768, out_features=3072, bias=True)\n",
              "          )\n",
              "          (output): BertOutput(\n",
              "            (dense): Linear(in_features=3072, out_features=768, bias=True)\n",
              "            (LayerNorm): LayerNorm((768,), eps=1e-12, elementwise_affine=True)\n",
              "            (dropout): Dropout(p=0.1, inplace=False)\n",
              "          )\n",
              "        )\n",
              "        (4): BertLayer(\n",
              "          (attention): BertAttention(\n",
              "            (self): BertSelfAttention(\n",
              "              (query): Linear(in_features=768, out_features=768, bias=True)\n",
              "              (key): Linear(in_features=768, out_features=768, bias=True)\n",
              "              (value): Linear(in_features=768, out_features=768, bias=True)\n",
              "              (dropout): Dropout(p=0.1, inplace=False)\n",
              "            )\n",
              "            (output): BertSelfOutput(\n",
              "              (dense): Linear(in_features=768, out_features=768, bias=True)\n",
              "              (LayerNorm): LayerNorm((768,), eps=1e-12, elementwise_affine=True)\n",
              "              (dropout): Dropout(p=0.1, inplace=False)\n",
              "            )\n",
              "          )\n",
              "          (intermediate): BertIntermediate(\n",
              "            (dense): Linear(in_features=768, out_features=3072, bias=True)\n",
              "          )\n",
              "          (output): BertOutput(\n",
              "            (dense): Linear(in_features=3072, out_features=768, bias=True)\n",
              "            (LayerNorm): LayerNorm((768,), eps=1e-12, elementwise_affine=True)\n",
              "            (dropout): Dropout(p=0.1, inplace=False)\n",
              "          )\n",
              "        )\n",
              "        (5): BertLayer(\n",
              "          (attention): BertAttention(\n",
              "            (self): BertSelfAttention(\n",
              "              (query): Linear(in_features=768, out_features=768, bias=True)\n",
              "              (key): Linear(in_features=768, out_features=768, bias=True)\n",
              "              (value): Linear(in_features=768, out_features=768, bias=True)\n",
              "              (dropout): Dropout(p=0.1, inplace=False)\n",
              "            )\n",
              "            (output): BertSelfOutput(\n",
              "              (dense): Linear(in_features=768, out_features=768, bias=True)\n",
              "              (LayerNorm): LayerNorm((768,), eps=1e-12, elementwise_affine=True)\n",
              "              (dropout): Dropout(p=0.1, inplace=False)\n",
              "            )\n",
              "          )\n",
              "          (intermediate): BertIntermediate(\n",
              "            (dense): Linear(in_features=768, out_features=3072, bias=True)\n",
              "          )\n",
              "          (output): BertOutput(\n",
              "            (dense): Linear(in_features=3072, out_features=768, bias=True)\n",
              "            (LayerNorm): LayerNorm((768,), eps=1e-12, elementwise_affine=True)\n",
              "            (dropout): Dropout(p=0.1, inplace=False)\n",
              "          )\n",
              "        )\n",
              "        (6): BertLayer(\n",
              "          (attention): BertAttention(\n",
              "            (self): BertSelfAttention(\n",
              "              (query): Linear(in_features=768, out_features=768, bias=True)\n",
              "              (key): Linear(in_features=768, out_features=768, bias=True)\n",
              "              (value): Linear(in_features=768, out_features=768, bias=True)\n",
              "              (dropout): Dropout(p=0.1, inplace=False)\n",
              "            )\n",
              "            (output): BertSelfOutput(\n",
              "              (dense): Linear(in_features=768, out_features=768, bias=True)\n",
              "              (LayerNorm): LayerNorm((768,), eps=1e-12, elementwise_affine=True)\n",
              "              (dropout): Dropout(p=0.1, inplace=False)\n",
              "            )\n",
              "          )\n",
              "          (intermediate): BertIntermediate(\n",
              "            (dense): Linear(in_features=768, out_features=3072, bias=True)\n",
              "          )\n",
              "          (output): BertOutput(\n",
              "            (dense): Linear(in_features=3072, out_features=768, bias=True)\n",
              "            (LayerNorm): LayerNorm((768,), eps=1e-12, elementwise_affine=True)\n",
              "            (dropout): Dropout(p=0.1, inplace=False)\n",
              "          )\n",
              "        )\n",
              "        (7): BertLayer(\n",
              "          (attention): BertAttention(\n",
              "            (self): BertSelfAttention(\n",
              "              (query): Linear(in_features=768, out_features=768, bias=True)\n",
              "              (key): Linear(in_features=768, out_features=768, bias=True)\n",
              "              (value): Linear(in_features=768, out_features=768, bias=True)\n",
              "              (dropout): Dropout(p=0.1, inplace=False)\n",
              "            )\n",
              "            (output): BertSelfOutput(\n",
              "              (dense): Linear(in_features=768, out_features=768, bias=True)\n",
              "              (LayerNorm): LayerNorm((768,), eps=1e-12, elementwise_affine=True)\n",
              "              (dropout): Dropout(p=0.1, inplace=False)\n",
              "            )\n",
              "          )\n",
              "          (intermediate): BertIntermediate(\n",
              "            (dense): Linear(in_features=768, out_features=3072, bias=True)\n",
              "          )\n",
              "          (output): BertOutput(\n",
              "            (dense): Linear(in_features=3072, out_features=768, bias=True)\n",
              "            (LayerNorm): LayerNorm((768,), eps=1e-12, elementwise_affine=True)\n",
              "            (dropout): Dropout(p=0.1, inplace=False)\n",
              "          )\n",
              "        )\n",
              "        (8): BertLayer(\n",
              "          (attention): BertAttention(\n",
              "            (self): BertSelfAttention(\n",
              "              (query): Linear(in_features=768, out_features=768, bias=True)\n",
              "              (key): Linear(in_features=768, out_features=768, bias=True)\n",
              "              (value): Linear(in_features=768, out_features=768, bias=True)\n",
              "              (dropout): Dropout(p=0.1, inplace=False)\n",
              "            )\n",
              "            (output): BertSelfOutput(\n",
              "              (dense): Linear(in_features=768, out_features=768, bias=True)\n",
              "              (LayerNorm): LayerNorm((768,), eps=1e-12, elementwise_affine=True)\n",
              "              (dropout): Dropout(p=0.1, inplace=False)\n",
              "            )\n",
              "          )\n",
              "          (intermediate): BertIntermediate(\n",
              "            (dense): Linear(in_features=768, out_features=3072, bias=True)\n",
              "          )\n",
              "          (output): BertOutput(\n",
              "            (dense): Linear(in_features=3072, out_features=768, bias=True)\n",
              "            (LayerNorm): LayerNorm((768,), eps=1e-12, elementwise_affine=True)\n",
              "            (dropout): Dropout(p=0.1, inplace=False)\n",
              "          )\n",
              "        )\n",
              "        (9): BertLayer(\n",
              "          (attention): BertAttention(\n",
              "            (self): BertSelfAttention(\n",
              "              (query): Linear(in_features=768, out_features=768, bias=True)\n",
              "              (key): Linear(in_features=768, out_features=768, bias=True)\n",
              "              (value): Linear(in_features=768, out_features=768, bias=True)\n",
              "              (dropout): Dropout(p=0.1, inplace=False)\n",
              "            )\n",
              "            (output): BertSelfOutput(\n",
              "              (dense): Linear(in_features=768, out_features=768, bias=True)\n",
              "              (LayerNorm): LayerNorm((768,), eps=1e-12, elementwise_affine=True)\n",
              "              (dropout): Dropout(p=0.1, inplace=False)\n",
              "            )\n",
              "          )\n",
              "          (intermediate): BertIntermediate(\n",
              "            (dense): Linear(in_features=768, out_features=3072, bias=True)\n",
              "          )\n",
              "          (output): BertOutput(\n",
              "            (dense): Linear(in_features=3072, out_features=768, bias=True)\n",
              "            (LayerNorm): LayerNorm((768,), eps=1e-12, elementwise_affine=True)\n",
              "            (dropout): Dropout(p=0.1, inplace=False)\n",
              "          )\n",
              "        )\n",
              "        (10): BertLayer(\n",
              "          (attention): BertAttention(\n",
              "            (self): BertSelfAttention(\n",
              "              (query): Linear(in_features=768, out_features=768, bias=True)\n",
              "              (key): Linear(in_features=768, out_features=768, bias=True)\n",
              "              (value): Linear(in_features=768, out_features=768, bias=True)\n",
              "              (dropout): Dropout(p=0.1, inplace=False)\n",
              "            )\n",
              "            (output): BertSelfOutput(\n",
              "              (dense): Linear(in_features=768, out_features=768, bias=True)\n",
              "              (LayerNorm): LayerNorm((768,), eps=1e-12, elementwise_affine=True)\n",
              "              (dropout): Dropout(p=0.1, inplace=False)\n",
              "            )\n",
              "          )\n",
              "          (intermediate): BertIntermediate(\n",
              "            (dense): Linear(in_features=768, out_features=3072, bias=True)\n",
              "          )\n",
              "          (output): BertOutput(\n",
              "            (dense): Linear(in_features=3072, out_features=768, bias=True)\n",
              "            (LayerNorm): LayerNorm((768,), eps=1e-12, elementwise_affine=True)\n",
              "            (dropout): Dropout(p=0.1, inplace=False)\n",
              "          )\n",
              "        )\n",
              "        (11): BertLayer(\n",
              "          (attention): BertAttention(\n",
              "            (self): BertSelfAttention(\n",
              "              (query): Linear(in_features=768, out_features=768, bias=True)\n",
              "              (key): Linear(in_features=768, out_features=768, bias=True)\n",
              "              (value): Linear(in_features=768, out_features=768, bias=True)\n",
              "              (dropout): Dropout(p=0.1, inplace=False)\n",
              "            )\n",
              "            (output): BertSelfOutput(\n",
              "              (dense): Linear(in_features=768, out_features=768, bias=True)\n",
              "              (LayerNorm): LayerNorm((768,), eps=1e-12, elementwise_affine=True)\n",
              "              (dropout): Dropout(p=0.1, inplace=False)\n",
              "            )\n",
              "          )\n",
              "          (intermediate): BertIntermediate(\n",
              "            (dense): Linear(in_features=768, out_features=3072, bias=True)\n",
              "          )\n",
              "          (output): BertOutput(\n",
              "            (dense): Linear(in_features=3072, out_features=768, bias=True)\n",
              "            (LayerNorm): LayerNorm((768,), eps=1e-12, elementwise_affine=True)\n",
              "            (dropout): Dropout(p=0.1, inplace=False)\n",
              "          )\n",
              "        )\n",
              "      )\n",
              "    )\n",
              "    (pooler): BertPooler(\n",
              "      (dense): Linear(in_features=768, out_features=768, bias=True)\n",
              "      (activation): Tanh()\n",
              "    )\n",
              "  )\n",
              "  (dropout): Dropout(p=0.1, inplace=False)\n",
              "  (classifier): Linear(in_features=768, out_features=5, bias=True)\n",
              ")"
            ]
          },
          "metadata": {
            "tags": []
          },
          "execution_count": 24
        }
      ]
    },
    {
      "cell_type": "code",
      "metadata": {
        "id": "dW8aahnAcTH7"
      },
      "source": [
        "optimizer = AdamW(model.parameters(),\r\n",
        "                  lr = 2e-5, # args.learning_rate - default is 5e-5, our notebook had 2e-5\r\n",
        "                  eps = 1e-8 # args.adam_epsilon  - default is 1e-8.\r\n",
        "                )\r\n"
      ],
      "execution_count": 25,
      "outputs": []
    },
    {
      "cell_type": "code",
      "metadata": {
        "id": "Ing_k7eycvkB"
      },
      "source": [
        "from transformers import get_linear_schedule_with_warmup\r\n",
        "\r\n",
        "epochs = 10\r\n",
        "\r\n",
        "total_steps = len(train_dataloader) * epochs\r\n",
        "\r\n",
        "# Create the learning rate scheduler.\r\n",
        "scheduler = get_linear_schedule_with_warmup(optimizer, \r\n",
        "                                            num_warmup_steps = 0, # Default value in run_glue.py\r\n",
        "                                            num_training_steps = total_steps)"
      ],
      "execution_count": 26,
      "outputs": []
    },
    {
      "cell_type": "code",
      "metadata": {
        "id": "Q2JF2Ga7c30G"
      },
      "source": [
        "import numpy as np\r\n",
        "\r\n",
        "# Function to calculate the accuracy of our predictions vs labels\r\n",
        "def flat_accuracy(preds, labels):\r\n",
        "    pred_flat = np.argmax(preds, axis=1).flatten()\r\n",
        "    labels_flat = labels.flatten()\r\n",
        "    return np.sum(pred_flat == labels_flat) / len(labels_flat)"
      ],
      "execution_count": 27,
      "outputs": []
    },
    {
      "cell_type": "code",
      "metadata": {
        "id": "9LexGQ5ac9iy"
      },
      "source": [
        "import time\r\n",
        "import datetime\r\n",
        "\r\n",
        "def format_time(elapsed):\r\n",
        "    '''\r\n",
        "    Takes a time in seconds and returns a string hh:mm:ss\r\n",
        "    '''\r\n",
        "    # Round to the nearest second.\r\n",
        "    elapsed_rounded = int(round((elapsed)))\r\n",
        "    \r\n",
        "    # Format as hh:mm:ss\r\n",
        "    return str(datetime.timedelta(seconds=elapsed_rounded))\r\n"
      ],
      "execution_count": 28,
      "outputs": []
    },
    {
      "cell_type": "code",
      "metadata": {
        "colab": {
          "base_uri": "https://localhost:8080/"
        },
        "id": "Yz1pR8jqdAWT",
        "outputId": "6099ed9c-4bc4-437f-a407-f7b2750f35e5"
      },
      "source": [
        "import random\r\n",
        "import numpy as np\r\n",
        "\r\n",
        "# This training code is based on the `run_glue.py` script here:\r\n",
        "# https://github.com/huggingface/transformers/blob/5bfcd0485ece086ebcbed2d008813037968a9e58/examples/run_glue.py#L128\r\n",
        "\r\n",
        "\r\n",
        "\r\n",
        "training_stats = []\r\n",
        "\r\n",
        "# Measure the total training time for the whole run.\r\n",
        "total_t0 = time.time()\r\n",
        "\r\n",
        "# For each epoch...\r\n",
        "for epoch_i in range(0, epochs):\r\n",
        "    \r\n",
        "    # ========================================\r\n",
        "    #               Training\r\n",
        "    # ========================================\r\n",
        "    \r\n",
        "    # Perform one full pass over the training set.\r\n",
        "\r\n",
        "    # print(\"\")\r\n",
        "    # print('======== Epoch {:} / {:} ========'.format(epoch_i + 1, epochs))\r\n",
        "    # print('Training...')\r\n",
        "\r\n",
        "    # Measure how long the training epoch takes.\r\n",
        "    t0 = time.time()\r\n",
        "\r\n",
        "    # Reset the total loss for this epoch.\r\n",
        "    total_train_loss = 0\r\n",
        "\r\n",
        "    # Put the model into training mode. Don't be mislead--the call to \r\n",
        "    # `train` just changes the *mode*, it doesn't *perform* the training.\r\n",
        "    # `dropout` and `batchnorm` layers behave differently during training\r\n",
        "    # vs. test (source: https://stackoverflow.com/questions/51433378/what-does-model-train-do-in-pytorch)\r\n",
        "    model.train()\r\n",
        "\r\n",
        "    # For each batch of training data...\r\n",
        "    for step, batch in enumerate(train_dataloader):\r\n",
        "\r\n",
        "        # Progress update every 40 batches.\r\n",
        "        if step % 40 == 0 and not step == 0:\r\n",
        "            # Calculate elapsed time in minutes.\r\n",
        "            elapsed = format_time(time.time() - t0)\r\n",
        "            \r\n",
        "            # Report progress.\r\n",
        "           # print('  Batch {:>5,}  of  {:>5,}.    Elapsed: {:}.'.format(step, len(train_dataloader), elapsed))\r\n",
        "\r\n",
        "        b_input_ids = batch[0].to(device)\r\n",
        "        b_input_mask = batch[1].to(device)\r\n",
        "        b_labels = batch[2].to(device)\r\n",
        "        # print(b_labels[0])\r\n",
        "        \r\n",
        "        model.zero_grad()        \r\n",
        "        loss, logits = model(b_input_ids, \r\n",
        "                             token_type_ids=None, \r\n",
        "                             attention_mask=b_input_mask, \r\n",
        "                             labels=b_labels)[:2]\r\n",
        "        # print(model(b_input_ids, \r\n",
        "        #                      token_type_ids=None, \r\n",
        "        #                      attention_mask=b_input_mask, \r\n",
        "        #                      labels=b_labels)[:2])\r\n",
        "\r\n",
        "        # Accumulate the training loss over all of the batches so that we can\r\n",
        "        # calculate the average loss at the end. `loss` is a Tensor containing a\r\n",
        "        # single value; the `.item()` function just returns the Python value \r\n",
        "        # from the tensor.\r\n",
        "        total_train_loss += loss.item()\r\n",
        "\r\n",
        "        # Perform a backward pass to calculate the gradients.\r\n",
        "        loss.backward()\r\n",
        "\r\n",
        "        # Clip the norm of the gradients to 1.0.\r\n",
        "        # This is to help prevent the \"exploding gradients\" problem.\r\n",
        "        torch.nn.utils.clip_grad_norm_(model.parameters(), 1.0)\r\n",
        "\r\n",
        "        # Update parameters and take a step using the computed gradient.\r\n",
        "        # The optimizer dictates the \"update rule\"--how the parameters are\r\n",
        "        # modified based on their gradients, the learning rate, etc.\r\n",
        "        optimizer.step()\r\n",
        "\r\n",
        "        # Update the learning rate.\r\n",
        "        scheduler.step()\r\n",
        "\r\n",
        "    # Calculate the average loss over all of the batches.\r\n",
        "    avg_train_loss = total_train_loss / len(train_dataloader)            \r\n",
        "    \r\n",
        "    # Measure how long this epoch took.\r\n",
        "    training_time = format_time(time.time() - t0)\r\n",
        "\r\n",
        "    # print(\"\")\r\n",
        "    # print(\"  Average training loss: {0:.2f}\".format(avg_train_loss))\r\n",
        "    # print(\"  Training epcoh took: {:}\".format(training_time))\r\n",
        "        \r\n",
        "    # ========================================\r\n",
        "    #               Validation\r\n",
        "    # ========================================\r\n",
        "    # After the completion of each training epoch, measure our performance on\r\n",
        "    # our validation set.\r\n",
        "\r\n",
        "    # print(\"\")\r\n",
        "    # print(\"Running Validation...\")\r\n",
        "\r\n",
        "    t0 = time.time()\r\n",
        "\r\n",
        "    # Put the model in evaluation mode--the dropout layers behave differently\r\n",
        "    # during evaluation.\r\n",
        "    model.eval()\r\n",
        "\r\n",
        "    # Tracking variables \r\n",
        "    total_eval_accuracy = 0\r\n",
        "    total_eval_loss = 0\r\n",
        "    nb_eval_steps = 0\r\n",
        "\r\n",
        "    # Evaluate data for one epoch\r\n",
        "    for batch in validation_dataloader:\r\n",
        "        \r\n",
        "        #   [0]: input ids \r\n",
        "        #   [1]: attention masks\r\n",
        "        #   [2]: labels \r\n",
        "        b_input_ids = batch[0].to(device)\r\n",
        "        b_input_mask = batch[1].to(device)\r\n",
        "        b_labels = batch[2].to(device)\r\n",
        "        \r\n",
        "        # Tell pytorch not to bother with constructing the compute graph during\r\n",
        "        # the forward pass, since this is only needed for backprop (training).\r\n",
        "        with torch.no_grad():        \r\n",
        "\r\n",
        "            (loss, logits) = model(b_input_ids, \r\n",
        "                                   token_type_ids=None, \r\n",
        "                                   attention_mask=b_input_mask,\r\n",
        "                                   labels=b_labels)[:2]\r\n",
        "            \r\n",
        "        # Accumulate the validation loss.\r\n",
        "        total_eval_loss += loss.item()\r\n",
        "\r\n",
        "        # Move logits and labels to CPU\r\n",
        "        logits = logits.detach().cpu().numpy()\r\n",
        "        label_ids = b_labels.to('cpu').numpy()\r\n",
        "\r\n",
        "        total_eval_accuracy += flat_accuracy(logits, label_ids)\r\n",
        "        \r\n",
        "\r\n",
        "    # Report the final accuracy for this validation run.\r\n",
        "    avg_val_accuracy = total_eval_accuracy / len(validation_dataloader)\r\n",
        "    # print(\"  Accuracy: {0:.2f}\".format(avg_val_accuracy))\r\n",
        "\r\n",
        "    # Calculate the average loss over all of the batches.\r\n",
        "    avg_val_loss = total_eval_loss / len(validation_dataloader)\r\n",
        "    \r\n",
        "    # Measure how long the validation run took.\r\n",
        "    validation_time = format_time(time.time() - t0)\r\n",
        "    \r\n",
        "    # print(\"  Validation Loss: {0:.2f}\".format(avg_val_loss))\r\n",
        "    # print(\"  Validation took: {:}\".format(validation_time))\r\n",
        "\r\n",
        "    # Record all statistics from this epoch.\r\n",
        "    training_stats.append(\r\n",
        "        {\r\n",
        "            'epoch': epoch_i + 1,\r\n",
        "            'Training Loss': avg_train_loss,\r\n",
        "            'Valid. Loss': avg_val_loss,\r\n",
        "            'Valid. Accur.': avg_val_accuracy,\r\n",
        "            'Training Time': training_time,\r\n",
        "            'Validation Time': validation_time\r\n",
        "        }\r\n",
        "    )\r\n",
        "\r\n",
        "print(\"\")\r\n",
        "print(\"Training complete!\")\r\n",
        "\r\n",
        "print(\"Total training took {:} (h:mm:ss)\".format(format_time(time.time()-total_t0)))"
      ],
      "execution_count": 31,
      "outputs": [
        {
          "output_type": "stream",
          "text": [
            "\n",
            "Training complete!\n",
            "Total training took 0:00:21 (h:mm:ss)\n"
          ],
          "name": "stdout"
        }
      ]
    },
    {
      "cell_type": "code",
      "metadata": {
        "colab": {
          "base_uri": "https://localhost:8080/",
          "height": 387
        },
        "id": "6LRX3KMhdFzY",
        "outputId": "6332b138-7113-4b1b-d2b6-28bd80db914f"
      },
      "source": [
        "import pandas as pd\r\n",
        "\r\n",
        "# Display floats with two decimal places.\r\n",
        "pd.set_option('precision', 2)\r\n",
        "\r\n",
        "# Create a DataFrame from our training statistics.\r\n",
        "df_stats = pd.DataFrame(data=training_stats)\r\n",
        "\r\n",
        "# Use the 'epoch' as the row index.\r\n",
        "df_stats = df_stats.set_index('epoch')\r\n",
        "\r\n",
        "# A hack to force the column headers to wrap.\r\n",
        "#df = df.style.set_table_styles([dict(selector=\"th\",props=[('max-width', '70px')])])\r\n",
        "\r\n",
        "# Display the table.\r\n",
        "df_stats"
      ],
      "execution_count": 32,
      "outputs": [
        {
          "output_type": "execute_result",
          "data": {
            "text/html": [
              "<div>\n",
              "<style scoped>\n",
              "    .dataframe tbody tr th:only-of-type {\n",
              "        vertical-align: middle;\n",
              "    }\n",
              "\n",
              "    .dataframe tbody tr th {\n",
              "        vertical-align: top;\n",
              "    }\n",
              "\n",
              "    .dataframe thead th {\n",
              "        text-align: right;\n",
              "    }\n",
              "</style>\n",
              "<table border=\"1\" class=\"dataframe\">\n",
              "  <thead>\n",
              "    <tr style=\"text-align: right;\">\n",
              "      <th></th>\n",
              "      <th>Training Loss</th>\n",
              "      <th>Valid. Loss</th>\n",
              "      <th>Valid. Accur.</th>\n",
              "      <th>Training Time</th>\n",
              "      <th>Validation Time</th>\n",
              "    </tr>\n",
              "    <tr>\n",
              "      <th>epoch</th>\n",
              "      <th></th>\n",
              "      <th></th>\n",
              "      <th></th>\n",
              "      <th></th>\n",
              "      <th></th>\n",
              "    </tr>\n",
              "  </thead>\n",
              "  <tbody>\n",
              "    <tr>\n",
              "      <th>1</th>\n",
              "      <td>1.60</td>\n",
              "      <td>1.61</td>\n",
              "      <td>0.19</td>\n",
              "      <td>0:00:02</td>\n",
              "      <td>0:00:00</td>\n",
              "    </tr>\n",
              "    <tr>\n",
              "      <th>2</th>\n",
              "      <td>1.56</td>\n",
              "      <td>1.62</td>\n",
              "      <td>0.26</td>\n",
              "      <td>0:00:02</td>\n",
              "      <td>0:00:00</td>\n",
              "    </tr>\n",
              "    <tr>\n",
              "      <th>3</th>\n",
              "      <td>1.51</td>\n",
              "      <td>1.62</td>\n",
              "      <td>0.26</td>\n",
              "      <td>0:00:02</td>\n",
              "      <td>0:00:00</td>\n",
              "    </tr>\n",
              "    <tr>\n",
              "      <th>4</th>\n",
              "      <td>1.46</td>\n",
              "      <td>1.67</td>\n",
              "      <td>0.18</td>\n",
              "      <td>0:00:02</td>\n",
              "      <td>0:00:00</td>\n",
              "    </tr>\n",
              "    <tr>\n",
              "      <th>5</th>\n",
              "      <td>1.39</td>\n",
              "      <td>1.69</td>\n",
              "      <td>0.24</td>\n",
              "      <td>0:00:02</td>\n",
              "      <td>0:00:00</td>\n",
              "    </tr>\n",
              "    <tr>\n",
              "      <th>6</th>\n",
              "      <td>1.35</td>\n",
              "      <td>1.75</td>\n",
              "      <td>0.20</td>\n",
              "      <td>0:00:02</td>\n",
              "      <td>0:00:00</td>\n",
              "    </tr>\n",
              "    <tr>\n",
              "      <th>7</th>\n",
              "      <td>1.30</td>\n",
              "      <td>1.72</td>\n",
              "      <td>0.24</td>\n",
              "      <td>0:00:02</td>\n",
              "      <td>0:00:00</td>\n",
              "    </tr>\n",
              "    <tr>\n",
              "      <th>8</th>\n",
              "      <td>1.28</td>\n",
              "      <td>1.74</td>\n",
              "      <td>0.23</td>\n",
              "      <td>0:00:02</td>\n",
              "      <td>0:00:00</td>\n",
              "    </tr>\n",
              "    <tr>\n",
              "      <th>9</th>\n",
              "      <td>1.26</td>\n",
              "      <td>1.75</td>\n",
              "      <td>0.22</td>\n",
              "      <td>0:00:02</td>\n",
              "      <td>0:00:00</td>\n",
              "    </tr>\n",
              "    <tr>\n",
              "      <th>10</th>\n",
              "      <td>1.25</td>\n",
              "      <td>1.75</td>\n",
              "      <td>0.22</td>\n",
              "      <td>0:00:02</td>\n",
              "      <td>0:00:00</td>\n",
              "    </tr>\n",
              "  </tbody>\n",
              "</table>\n",
              "</div>"
            ],
            "text/plain": [
              "       Training Loss  Valid. Loss  Valid. Accur. Training Time Validation Time\n",
              "epoch                                                                         \n",
              "1               1.60         1.61           0.19       0:00:02         0:00:00\n",
              "2               1.56         1.62           0.26       0:00:02         0:00:00\n",
              "3               1.51         1.62           0.26       0:00:02         0:00:00\n",
              "4               1.46         1.67           0.18       0:00:02         0:00:00\n",
              "5               1.39         1.69           0.24       0:00:02         0:00:00\n",
              "6               1.35         1.75           0.20       0:00:02         0:00:00\n",
              "7               1.30         1.72           0.24       0:00:02         0:00:00\n",
              "8               1.28         1.74           0.23       0:00:02         0:00:00\n",
              "9               1.26         1.75           0.22       0:00:02         0:00:00\n",
              "10              1.25         1.75           0.22       0:00:02         0:00:00"
            ]
          },
          "metadata": {
            "tags": []
          },
          "execution_count": 32
        }
      ]
    },
    {
      "cell_type": "code",
      "metadata": {
        "colab": {
          "base_uri": "https://localhost:8080/",
          "height": 427
        },
        "id": "GxH_jhGdgLGd",
        "outputId": "77e75ecd-c214-4011-d098-7b3e043b952f"
      },
      "source": [
        "import matplotlib.pyplot as plt\r\n",
        "% matplotlib inline\r\n",
        "\r\n",
        "import seaborn as sns\r\n",
        "\r\n",
        "# Use plot styling from seaborn.\r\n",
        "sns.set(style='darkgrid')\r\n",
        "\r\n",
        "# Increase the plot size and font size.\r\n",
        "sns.set(font_scale=1.5)\r\n",
        "plt.rcParams[\"figure.figsize\"] = (12,6)\r\n",
        "\r\n",
        "# Plot the learning curve.\r\n",
        "plt.plot(df_stats['Training Loss'], 'b-o', label=\"Training\")\r\n",
        "plt.plot(df_stats['Valid. Loss'], 'g-o', label=\"Validation\")\r\n",
        "\r\n",
        "# Label the plot.\r\n",
        "plt.title(\"Training & Validation Loss\")\r\n",
        "plt.xlabel(\"Epoch\")\r\n",
        "plt.ylabel(\"Loss\")\r\n",
        "plt.legend()\r\n",
        "plt.xticks([1, 2, 3, 4])\r\n",
        "\r\n",
        "plt.show()"
      ],
      "execution_count": 33,
      "outputs": [
        {
          "output_type": "display_data",
          "data": {
            "image/png": "[encoded data removed]",
            "text/plain": [
              "<Figure size 864x432 with 1 Axes>"
            ]
          },
          "metadata": {
            "tags": []
          }
        }
      ]
    },
    {
      "cell_type": "code",
      "metadata": {
        "id": "ALbIRmVShozJ"
      },
      "source": [
        ""
      ],
      "execution_count": null,
      "outputs": []
    }
  ]
}